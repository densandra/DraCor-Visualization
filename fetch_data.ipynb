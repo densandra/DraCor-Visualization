{
 "cells": [
  {
   "cell_type": "code",
   "execution_count": 11,
   "metadata": {},
   "outputs": [],
   "source": [
    "import pandas as pd\n",
    "import os\n",
    "import requests\n",
    "from pydracor import *\n",
    "\n",
    "dracor = DraCor()"
   ]
  },
  {
   "cell_type": "code",
   "execution_count": 28,
   "metadata": {},
   "outputs": [],
   "source": [
    "german_corpus = Corpus('ger')\n",
    "german_plays = german_corpus.play_ids()\n",
    "\n",
    "if not os.path.exists('data/relations'):\n",
    "    os.makedirs('data/relations')\n",
    "\n",
    "if not os.path.exists('data/cooccurence'):\n",
    "    os.makedirs('data/cooccurence')\n",
    "\n",
    "for play_id in german_plays:\n",
    "    play = Play(play_id)\n",
    "    filename = f\"data/relations/{play_id}.graphml\"\n",
    "    try:\n",
    "        relations_graphml = play.relations_graphml()\n",
    "    except requests.HTTPError:\n",
    "        continue\n",
    "    # networkX doesn't support mix of directed+undirected Graphs & nx_altair's arrows look broken\n",
    "    # workaround: make graph undirected\n",
    "    relations_graphml = relations_graphml.replace('directed=\"true\"', 'directed=\"false\"')\n",
    "    with open(filename, 'w', encoding='utf-8') as file:\n",
    "        file.write(relations_graphml)\n",
    "    filename = f\"data/cooccurence/{play_id}.graphml\"\n",
    "    cooccurence_graphml = play.graphml()\n",
    "    with open(filename, 'w', encoding='utf-8') as file:\n",
    "        file.write(cooccurence_graphml)\n",
    "\n",
    "german_metadata = pd.DataFrame(german_corpus.metadata())\n",
    "existing_relations_files = os.listdir('data/relations')\n",
    "existing_relations_play_ids = [filename.split('.')[0] for filename in existing_relations_files]\n",
    "german_metadata_filtered = german_metadata[german_metadata['id'].isin(existing_relations_play_ids)]\n",
    "german_metadata_filtered.to_csv('data/german_metadata.csv', index=False, encoding='utf-8')"
   ]
  }
 ],
 "metadata": {
  "kernelspec": {
   "display_name": "Python 3",
   "language": "python",
   "name": "python3"
  },
  "language_info": {
   "codemirror_mode": {
    "name": "ipython",
    "version": 3
   },
   "file_extension": ".py",
   "mimetype": "text/x-python",
   "name": "python",
   "nbconvert_exporter": "python",
   "pygments_lexer": "ipython3",
   "version": "3.11.2"
  }
 },
 "nbformat": 4,
 "nbformat_minor": 2
}
