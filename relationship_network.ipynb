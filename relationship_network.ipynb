{
 "cells": [
  {
   "cell_type": "markdown",
   "metadata": {
    "id": "2FmnnFV4zzrk"
   },
   "source": [
    "# Step 0: Preparation\n",
    "Import libraries and instantiate DraCor api."
   ]
  },
  {
   "cell_type": "code",
   "execution_count": 6,
   "metadata": {},
   "outputs": [],
   "source": [
    "import pandas as pd\n",
    "import altair as alt\n",
    "import ipywidgets as widgets\n",
    "import networkx as nx\n",
    "import nx_altair as nxa\n",
    "from pydracor import *\n",
    "\n",
    "dracor = DraCor()"
   ]
  },
  {
   "cell_type": "markdown",
   "metadata": {
    "id": "hP91xZrfzzrm"
   },
   "source": [
    "# Step 1: Available German plays\n",
    "Choose a play you are interested in from the list."
   ]
  },
  {
   "cell_type": "code",
   "execution_count": 7,
   "metadata": {},
   "outputs": [],
   "source": [
    "plays = dracor.play_id_to_play_title()\n",
    "available_german_plays = filtered_grades = dict(filter(lambda play: 'ger0' in play[0], plays.items()))"
   ]
  },
  {
   "cell_type": "code",
   "execution_count": 8,
   "metadata": {},
   "outputs": [
    {
     "data": {
      "application/vnd.jupyter.widget-view+json": {
       "model_id": "e0f9816907024ad48516ea77931c9b89",
       "version_major": 2,
       "version_minor": 0
      },
      "text/plain": [
       "Dropdown(description='Play title:', options={'Amalie und Charlotte Baronessen von Habenichts: oder die ungleic…"
      ]
     },
     "execution_count": 8,
     "metadata": {},
     "output_type": "execute_result"
    }
   ],
   "source": [
    "dropdown_items = dict((v,k) for k,v in available_german_plays.items())\n",
    "\n",
    "dropdown = widgets.Dropdown(\n",
    "    options=dropdown_items,\n",
    "    description='Play title:',\n",
    ")\n",
    "\n",
    "dropdown\n"
   ]
  },
  {
   "cell_type": "markdown",
   "metadata": {
    "id": "lIquezMizzrn"
   },
   "source": [
    "# Step 2: Fetch data\n",
    "Request metadata and networks for a chosen play from the DraCor api."
   ]
  },
  {
   "cell_type": "code",
   "execution_count": 9,
   "metadata": {},
   "outputs": [],
   "source": [
    "# play = Play('ger000088') # Emilia Galotti\n",
    "# play = Play('ger000378') # Napoleon oder Die hundert Tage, 259 Characters\n",
    "#play = Play('ger000311') # Maria Stuart\n",
    "play = Play(dropdown.value)\n",
    "# play = Play('ger000201') # Faust zwei, 189 Characters\n",
    "\n",
    "# networkX doesn't support mix of directed+undirected Graphs & nx_altair's arrows look broken\n",
    "# workaround: make graph undirected\n",
    "relations_graphml = play.relations_graphml()\n",
    "relations_graphml = relations_graphml.replace('directed=\"true\"', 'directed=\"false\"')\n",
    "G = nx.parse_graphml(relations_graphml)\n",
    "\n",
    "# load corpus metadata\n",
    "german_corpus = Corpus('ger')\n",
    "german_metadata = pd.DataFrame(german_corpus.metadata())\n",
    "\n",
    "# load play metadata\n",
    "play_id = play.id\n",
    "play_metadata = german_metadata[german_metadata[\"id\"] == play_id].reset_index()\n",
    "\n",
    "# aggregate number of spoken words by gender\n",
    "cooccurence_graphml = play.graphml()\n",
    "cooccurence_graph = nx.parse_graphml(cooccurence_graphml)\n",
    "female_words = 0\n",
    "male_words = 0\n",
    "unknown_words = 0\n",
    "for node_iterator in cooccurence_graph.nodes: \n",
    "    node = cooccurence_graph.nodes[node_iterator]\n",
    "    if node['Gender'] == 'FEMALE':\n",
    "       female_words += node['Number of spoken words']\n",
    "    elif node['Gender'] == 'MALE':\n",
    "       male_words += node['Number of spoken words']\n",
    "    elif node['Gender'] == 'UNKNOWN':\n",
    "       unknown_words += node['Number of spoken words']\n",
    "\n",
    "spoken_words_list = [male_words, female_words, unknown_words]\n"
   ]
  },
  {
   "cell_type": "markdown",
   "metadata": {
    "id": "l7ae1MThzzro"
   },
   "source": [
    "# Step 3: Visualize data\n",
    "Draw charts about gender distribution and relations for the chosen play."
   ]
  },
  {
   "cell_type": "code",
   "execution_count": 10,
   "metadata": {},
   "outputs": [
    {
     "data": {
      "text/html": [
       "\n",
       "<style>\n",
       "  #altair-viz-d20fc5a20a214a19ac8947a230e33733.vega-embed {\n",
       "    width: 100%;\n",
       "    display: flex;\n",
       "  }\n",
       "\n",
       "  #altair-viz-d20fc5a20a214a19ac8947a230e33733.vega-embed details,\n",
       "  #altair-viz-d20fc5a20a214a19ac8947a230e33733.vega-embed details summary {\n",
       "    position: relative;\n",
       "  }\n",
       "</style>\n",
       "<div id=\"altair-viz-d20fc5a20a214a19ac8947a230e33733\"></div>\n",
       "<script type=\"text/javascript\">\n",
       "  var VEGA_DEBUG = (typeof VEGA_DEBUG == \"undefined\") ? {} : VEGA_DEBUG;\n",
       "  (function(spec, embedOpt){\n",
       "    let outputDiv = document.currentScript.previousElementSibling;\n",
       "    if (outputDiv.id !== \"altair-viz-d20fc5a20a214a19ac8947a230e33733\") {\n",
       "      outputDiv = document.getElementById(\"altair-viz-d20fc5a20a214a19ac8947a230e33733\");\n",
       "    }\n",
       "    const paths = {\n",
       "      \"vega\": \"https://cdn.jsdelivr.net/npm/vega@5?noext\",\n",
       "      \"vega-lib\": \"https://cdn.jsdelivr.net/npm/vega-lib?noext\",\n",
       "      \"vega-lite\": \"https://cdn.jsdelivr.net/npm/vega-lite@5.15.1?noext\",\n",
       "      \"vega-embed\": \"https://cdn.jsdelivr.net/npm/vega-embed@6?noext\",\n",
       "    };\n",
       "\n",
       "    function maybeLoadScript(lib, version) {\n",
       "      var key = `${lib.replace(\"-\", \"\")}_version`;\n",
       "      return (VEGA_DEBUG[key] == version) ?\n",
       "        Promise.resolve(paths[lib]) :\n",
       "        new Promise(function(resolve, reject) {\n",
       "          var s = document.createElement('script');\n",
       "          document.getElementsByTagName(\"head\")[0].appendChild(s);\n",
       "          s.async = true;\n",
       "          s.onload = () => {\n",
       "            VEGA_DEBUG[key] = version;\n",
       "            return resolve(paths[lib]);\n",
       "          };\n",
       "          s.onerror = () => reject(`Error loading script: ${paths[lib]}`);\n",
       "          s.src = paths[lib];\n",
       "        });\n",
       "    }\n",
       "\n",
       "    function showError(err) {\n",
       "      outputDiv.innerHTML = `<div class=\"error\" style=\"color:red;\">${err}</div>`;\n",
       "      throw err;\n",
       "    }\n",
       "\n",
       "    function displayChart(vegaEmbed) {\n",
       "      vegaEmbed(outputDiv, spec, embedOpt)\n",
       "        .catch(err => showError(`Javascript Error: ${err.message}<br>This usually means there's a typo in your chart specification. See the javascript console for the full traceback.`));\n",
       "    }\n",
       "\n",
       "    if(typeof define === \"function\" && define.amd) {\n",
       "      requirejs.config({paths});\n",
       "      require([\"vega-embed\"], displayChart, err => showError(`Error loading script: ${err.message}`));\n",
       "    } else {\n",
       "      maybeLoadScript(\"vega\", \"5\")\n",
       "        .then(() => maybeLoadScript(\"vega-lite\", \"5.15.1\"))\n",
       "        .then(() => maybeLoadScript(\"vega-embed\", \"6\"))\n",
       "        .catch(showError)\n",
       "        .then(() => displayChart(vegaEmbed));\n",
       "    }\n",
       "  })({\"config\": {\"view\": {\"continuousWidth\": 300, \"continuousHeight\": 300, \"strokeWidth\": 0}, \"axis\": {\"domainOpacity\": 0}}, \"hconcat\": [{\"vconcat\": [{\"data\": {\"name\": \"data-7c8e0f9daec3fc6bdec4ed6898749a9d\"}, \"mark\": {\"type\": \"point\", \"cursor\": \"pointer\", \"filled\": true, \"opacity\": 1, \"size\": 300}, \"encoding\": {\"color\": {\"condition\": {\"param\": \"param_4\", \"field\": \"Gender\", \"legend\": null, \"type\": \"nominal\"}, \"value\": \"lightgray\"}, \"shape\": {\"field\": \"Gender\", \"legend\": null, \"type\": \"nominal\"}, \"y\": {\"field\": \"Gender_Display\", \"title\": \"\", \"type\": \"nominal\"}}, \"name\": \"view_5\", \"title\": {\"text\": \"Filter gender\", \"anchor\": \"start\"}}, {\"data\": {\"name\": \"data-21739cf7add01423a73f5d6a736e98bf\"}, \"mark\": {\"type\": \"rect\", \"cursor\": \"pointer\"}, \"encoding\": {\"color\": {\"condition\": {\"param\": \"param_3\", \"field\": \"Relation\", \"legend\": null, \"type\": \"nominal\"}, \"value\": \"lightgray\"}, \"y\": {\"field\": \"Relation_Display\", \"title\": \"\", \"type\": \"nominal\"}}, \"name\": \"view_6\", \"title\": {\"text\": \"Filter relation\", \"anchor\": \"start\"}}]}, {\"layer\": [{\"data\": {\"name\": \"data-5d9a555d09739308d85ff58bdeaf3d58\"}, \"mark\": {\"type\": \"line\", \"opacity\": 1, \"strokeWidth\": 2}, \"encoding\": {\"color\": {\"condition\": {\"param\": \"param_3\", \"field\": \"Relation\", \"legend\": null, \"type\": \"nominal\"}, \"value\": \"lightgray\"}, \"detail\": {\"field\": \"edge\", \"type\": \"quantitative\"}, \"x\": {\"axis\": {\"grid\": false, \"labels\": false, \"ticks\": false, \"title\": \"\"}, \"field\": \"x\", \"type\": \"quantitative\"}, \"y\": {\"axis\": {\"grid\": false, \"labels\": false, \"ticks\": false, \"title\": \"\"}, \"field\": \"y\", \"type\": \"quantitative\"}}, \"transform\": [{\"filter\": {\"param\": \"param_3\"}}]}, {\"data\": {\"name\": \"data-3d9ec5c3e0c6dbe378babf5c362bce86\"}, \"mark\": {\"type\": \"point\", \"fill\": \"lightgray\", \"opacity\": 1, \"size\": 300, \"strokeWidth\": 1.0}, \"encoding\": {\"color\": {\"condition\": {\"param\": \"param_4\", \"field\": \"Gender\", \"legend\": null, \"type\": \"nominal\"}, \"value\": \"lightgray\"}, \"fill\": {\"condition\": {\"param\": \"param_4\", \"field\": \"Gender\", \"legend\": null, \"type\": \"nominal\"}, \"value\": \"lightgray\"}, \"shape\": {\"field\": \"Gender\", \"legend\": null, \"type\": \"nominal\"}, \"tooltip\": [{\"field\": \"label\", \"type\": \"nominal\"}, {\"field\": \"Gender\", \"type\": \"nominal\"}], \"x\": {\"axis\": {\"grid\": false, \"labels\": false, \"ticks\": false}, \"field\": \"x\", \"type\": \"quantitative\"}, \"y\": {\"axis\": {\"grid\": false, \"labels\": false, \"ticks\": false}, \"field\": \"y\", \"type\": \"quantitative\"}}, \"name\": \"view_4\"}], \"height\": 400, \"width\": 400}, {\"vconcat\": [{\"mark\": {\"type\": \"arc\"}, \"encoding\": {\"color\": {\"field\": \"Gender\", \"legend\": null, \"type\": \"nominal\"}, \"theta\": {\"field\": \"Characters\", \"type\": \"quantitative\"}, \"tooltip\": [{\"field\": \"Gender\", \"type\": \"nominal\"}, {\"field\": \"Characters\", \"type\": \"quantitative\"}]}, \"height\": 200, \"title\": \"Gender distribution\", \"width\": 200}, {\"mark\": {\"type\": \"arc\"}, \"encoding\": {\"color\": {\"field\": \"Gender\", \"legend\": null, \"type\": \"nominal\"}, \"theta\": {\"field\": \"Spoken words\", \"type\": \"quantitative\"}, \"tooltip\": [{\"field\": \"Gender\", \"type\": \"nominal\"}, {\"field\": \"Spoken words\", \"type\": \"quantitative\"}]}, \"height\": 200, \"title\": \"Number of spoken words by gender\", \"width\": 200}], \"data\": {\"name\": \"data-7c8e0f9daec3fc6bdec4ed6898749a9d\"}}], \"params\": [{\"name\": \"param_4\", \"select\": {\"type\": \"point\", \"fields\": [\"Gender\"], \"toggle\": \"true\"}, \"views\": [\"view_5\", \"view_4\"]}, {\"name\": \"param_3\", \"select\": {\"type\": \"point\", \"fields\": [\"Relation\"], \"toggle\": \"true\"}, \"views\": [\"view_6\"]}], \"title\": {\"text\": \"Gender distribution and relations in \\\"Amalie und Charlotte Baronessen von Habenichts: oder die ungleichen Schwestern\\\"\", \"anchor\": \"middle\", \"fontSize\": 20}, \"$schema\": \"https://vega.github.io/schema/vega-lite/v5.15.1.json\", \"datasets\": {\"data-7c8e0f9daec3fc6bdec4ed6898749a9d\": [{\"Gender\": \"MALE\", \"Gender_Display\": \"Male\", \"Characters\": 7, \"Spoken words\": 3961}, {\"Gender\": \"FEMALE\", \"Gender_Display\": \"Female\", \"Characters\": 4, \"Spoken words\": 3687}, {\"Gender\": \"UNKNOWN\", \"Gender_Display\": \"Unknown\", \"Characters\": 0, \"Spoken words\": 0}], \"data-21739cf7add01423a73f5d6a736e98bf\": [{\"Relation\": \"parent_of\", \"Relation_Display\": \"Parent\"}, {\"Relation\": \"lover_of\", \"Relation_Display\": \"Lover\"}, {\"Relation\": \"related_with\", \"Relation_Display\": \"Related\"}, {\"Relation\": \"associated_with\", \"Relation_Display\": \"Associated\"}, {\"Relation\": \"siblings\", \"Relation_Display\": \"Sibling\"}, {\"Relation\": \"spouses\", \"Relation_Display\": \"Spouse\"}, {\"Relation\": \"friends\", \"Relation_Display\": \"Friend\"}], \"data-5d9a555d09739308d85ff58bdeaf3d58\": [{\"Relation\": \"associated_with\", \"target\": \"amalie\", \"id\": \"3\", \"edge\": 0, \"x\": -0.8412534594535828, \"pair\": [\"dorimene\", \"amalie\"], \"source\": \"dorimene\", \"y\": -0.5406408905982971}, {\"Relation\": \"associated_with\", \"target\": \"amalie\", \"id\": \"3\", \"edge\": 0, \"x\": 0.6548607349395752, \"pair\": [\"dorimene\", \"amalie\"], \"source\": \"dorimene\", \"y\": -0.7557495832443237}, {\"Relation\": \"associated_with\", \"target\": \"charlotte\", \"id\": \"4\", \"edge\": 1, \"x\": -0.41541510820388794, \"pair\": [\"philippine\", \"charlotte\"], \"source\": \"philippine\", \"y\": -0.9096319675445557}, {\"Relation\": \"associated_with\", \"target\": \"charlotte\", \"id\": \"4\", \"edge\": 1, \"x\": 0.9594930410385132, \"pair\": [\"philippine\", \"charlotte\"], \"source\": \"philippine\", \"y\": -0.2817322909832001}, {\"Relation\": \"siblings\", \"target\": \"wartimer\", \"id\": \"2\", \"edge\": 2, \"x\": 0.14231504499912262, \"pair\": [\"von_weinreich\", \"wartimer\"], \"source\": \"von_weinreich\", \"y\": -0.9898214340209961}, {\"Relation\": \"siblings\", \"target\": \"wartimer\", \"id\": \"2\", \"edge\": 2, \"x\": 0.9594929218292236, \"pair\": [\"von_weinreich\", \"wartimer\"], \"source\": \"von_weinreich\", \"y\": 0.28173261880874634}, {\"Relation\": \"associated_with\", \"target\": \"christoph\", \"id\": \"6\", \"edge\": 3, \"x\": 0.14231504499912262, \"pair\": [\"von_weinreich\", \"christoph\"], \"source\": \"von_weinreich\", \"y\": -0.9898214340209961}, {\"Relation\": \"associated_with\", \"target\": \"christoph\", \"id\": \"6\", \"edge\": 3, \"x\": 0.65486079454422, \"pair\": [\"von_weinreich\", \"christoph\"], \"source\": \"von_weinreich\", \"y\": 0.755749523639679}, {\"Relation\": \"siblings\", \"target\": \"charlotte\", \"id\": \"1\", \"edge\": 4, \"x\": 0.6548607349395752, \"pair\": [\"amalie\", \"charlotte\"], \"source\": \"amalie\", \"y\": -0.7557495832443237}, {\"Relation\": \"siblings\", \"target\": \"charlotte\", \"id\": \"1\", \"edge\": 4, \"x\": 0.9594930410385132, \"pair\": [\"amalie\", \"charlotte\"], \"source\": \"amalie\", \"y\": -0.2817322909832001}, {\"Relation\": \"associated_with\", \"target\": \"gottlieb\", \"id\": \"5\", \"edge\": 5, \"x\": -0.41541537642478943, \"pair\": [\"von_wertheim\", \"gottlieb\"], \"source\": \"von_wertheim\", \"y\": 0.9096318483352661}, {\"Relation\": \"associated_with\", \"target\": \"gottlieb\", \"id\": \"5\", \"edge\": 5, \"x\": -0.8412536382675171, \"pair\": [\"von_wertheim\", \"gottlieb\"], \"source\": \"von_wertheim\", \"y\": 0.540640652179718}], \"data-3d9ec5c3e0c6dbe378babf5c362bce86\": [{\"label\": \"Herr Stock\", \"Gender\": \"MALE\", \"x\": -1.0, \"Person group\": false, \"y\": -8.742277657347586e-08}, {\"label\": \"Dorimene\", \"Gender\": \"FEMALE\", \"x\": -0.8412534594535828, \"Person group\": false, \"y\": -0.5406408905982971}, {\"label\": \"Philippine\", \"Gender\": \"FEMALE\", \"x\": -0.41541510820388794, \"Person group\": false, \"y\": -0.9096319675445557}, {\"label\": \"Herr von Weinreich\", \"Gender\": \"MALE\", \"x\": 0.14231504499912262, \"Person group\": false, \"y\": -0.9898214340209961}, {\"label\": \"Amalie\", \"Gender\": \"FEMALE\", \"x\": 0.6548607349395752, \"Person group\": false, \"y\": -0.7557495832443237}, {\"label\": \"Charlotte\", \"Gender\": \"FEMALE\", \"x\": 0.9594930410385132, \"Person group\": false, \"y\": -0.2817322909832001}, {\"label\": \"Wartimer\", \"Gender\": \"MALE\", \"x\": 0.9594929218292236, \"Person group\": false, \"y\": 0.28173261880874634}, {\"label\": \"Christoph\", \"Gender\": \"MALE\", \"x\": 0.65486079454422, \"Person group\": false, \"y\": 0.755749523639679}, {\"label\": \"Herr Nulle\", \"Gender\": \"MALE\", \"x\": 0.14231516420841217, \"Person group\": false, \"y\": 0.9898213744163513}, {\"label\": \"Herr von Wertheim\", \"Gender\": \"MALE\", \"x\": -0.41541537642478943, \"Person group\": false, \"y\": 0.9096318483352661}, {\"label\": \"Gottlieb\", \"Gender\": \"MALE\", \"x\": -0.8412536382675171, \"Person group\": false, \"y\": 0.540640652179718}]}}, {\"mode\": \"vega-lite\"});\n",
       "</script>"
      ],
      "text/plain": [
       "alt.HConcatChart(...)"
      ]
     },
     "execution_count": 10,
     "metadata": {},
     "output_type": "execute_result"
    }
   ],
   "source": [
    "############################## Network Chart ##############################\n",
    "\n",
    "# define the graph layout\n",
    "layout = nx.shell_layout(G)\n",
    "\n",
    "# draw base graph with nx_altair\n",
    "base = nxa.draw_networkx(\n",
    "    G,\n",
    "    pos=layout,\n",
    "    node_tooltip=['label', 'Gender'],\n",
    "    node_color='lightgray',\n",
    "    edge_color='Relation',\n",
    "    width=2\n",
    ")\n",
    "\n",
    "# get the edge layer\n",
    "edges = base.layer[0]\n",
    "# get the node layer\n",
    "nodes = base.layer[1]\n",
    "\n",
    "relation = pd.DataFrame(\n",
    "    {'Relation': ['parent_of', 'lover_of', 'related_with', 'associated_with', 'siblings', 'spouses', 'friends']}\n",
    ")\n",
    "\n",
    "relation_selection = alt.selection_point(fields=['Relation'], toggle=\"true\")\n",
    "relation_color = alt.condition(\n",
    "    relation_selection,\n",
    "    alt.Color('Relation:N', legend=None),\n",
    "    alt.value('lightgray')\n",
    ")\n",
    "relation_filter = alt.Chart(\n",
    "    relation,\n",
    "    title=alt.TitleParams('Filter relation', anchor='start')\n",
    ").mark_rect(cursor='pointer').encode(\n",
    "    y=alt.Y('Relation', title=''),\n",
    "    color=relation_color\n",
    ").add_params(relation_selection)\n",
    "######################### This cell is modified by Yuna #################\n",
    "# Mapping of original relation names to new names\n",
    "relation_name_mapping = {\n",
    "    'parent_of': 'Parent',\n",
    "    'lover_of': 'Lover',\n",
    "    'related_with': 'Related',\n",
    "    'associated_with': 'Associated',\n",
    "    'siblings': 'Sibling',\n",
    "    'spouses': 'Spouse',\n",
    "    'friends': 'Friend'\n",
    "}\n",
    "\n",
    "# Create a new column in the table with the modified names\n",
    "relation['Relation_Display'] = relation['Relation'].map(relation_name_mapping)\n",
    "\n",
    "# Chart with modified names\n",
    "relation_filter = alt.Chart(\n",
    "    relation,\n",
    "    title=alt.TitleParams('Filter relation', anchor='start')\n",
    ").mark_rect(cursor='pointer').encode(\n",
    "    y=alt.Y('Relation_Display', title=''),  # Use the new column for display\n",
    "    color=relation_color\n",
    ").add_params(relation_selection)\n",
    "######################### Modification by Yuna ends #################\n",
    "# encode relation as edge color and add relationship filter\n",
    "edges = edges.encode(color=relation_color).transform_filter(relation_selection)\n",
    "# define gender filter\n",
    "gender = pd.DataFrame({'Gender': ['MALE','FEMALE', 'UNKNOWN']})\n",
    "gender_selection = alt.selection_point(fields=['Gender'], toggle=\"true\")\n",
    "gender_color = alt.condition(\n",
    "    gender_selection,\n",
    "    alt.Color('Gender:N', legend=None),\n",
    "    alt.value('lightgray')\n",
    ")\n",
    "gender_shape = alt.Shape('Gender:N', legend=None)\n",
    "\n",
    "# Mapping of original Gender names to new names\n",
    "gender_name_mapping = {\n",
    "    'MALE': 'Male',\n",
    "    'FEMALE': 'Female',\n",
    "    'UNKNOWN': 'Unknown',\n",
    "}\n",
    "###################### This cell is modified by Yuna ###############\n",
    "# Create a new column in the table with the modified names\n",
    "gender['Gender_Display'] = gender['Gender'].map(gender_name_mapping)\n",
    "\n",
    "# Chart with modified names\n",
    "gender_filter = alt.Chart(\n",
    "    gender,\n",
    "    title=alt.TitleParams('Filter gender', anchor='start')\n",
    ").mark_point(\n",
    "    size=300,\n",
    "    cursor='pointer',\n",
    "    filled=True,\n",
    "    opacity=1\n",
    ").encode(\n",
    "    y=alt.Y('Gender_Display', title=''),\n",
    "    color=gender_color,\n",
    "    shape=gender_shape\n",
    ").add_params(gender_selection)\n",
    "####################### modification by Yuna end ###############\n",
    "# encode gender as node shape+color and add gender filter\n",
    "nodes = nodes.encode(\n",
    "    color=gender_color,\n",
    "    fill=gender_color,\n",
    "    shape=gender_shape\n",
    ").add_params(gender_selection)\n",
    "\n",
    "# layer network chart\n",
    "network_chart = (edges + nodes).properties(\n",
    "    width=400,\n",
    "    height=400\n",
    ")\n",
    "network_chart_with_filters = ((gender_filter & relation_filter) | network_chart)\n",
    "############################## Pie Charts ##############################\n",
    "\n",
    "# count characters by gender\n",
    "speakers = play_metadata[['num_of_speakers_male', 'num_of_speakers_female', 'num_of_speakers_unknown']]\n",
    "gender['Characters'] = speakers.loc[0,:].values.tolist()\n",
    "gender_distribution_pie_chart= alt.Chart(gender, title='Gender distribution').mark_arc().encode(\n",
    "    theta='Characters',\n",
    "    color=alt.Color('Gender:N', legend=None),\n",
    "    tooltip=['Gender', 'Characters']\n",
    ").properties(\n",
    "    width=200,\n",
    "    height=200\n",
    ")\n",
    "\n",
    "# aggregated spoken words by gender\n",
    "gender['Spoken words'] = spoken_words_list\n",
    "spoken_words_pie_chart = alt.Chart(gender, title='Number of spoken words by gender').mark_arc().encode(\n",
    "    theta='Spoken words',\n",
    "    color=alt.Color('Gender:N', legend=None),\n",
    "    tooltip=['Gender', 'Spoken words']\n",
    ").properties(\n",
    "    width=200,\n",
    "    height=200\n",
    ")\n",
    "\n",
    "stacked_pie_charts = (gender_distribution_pie_chart & spoken_words_pie_chart)\n",
    "############################## Final Chart ##############################\n",
    "\n",
    "final_chart = (network_chart_with_filters | stacked_pie_charts)\n",
    "\n",
    "final_chart.configure_view(\n",
    "    strokeWidth=0 # remove border\n",
    ").configure_axis(\n",
    "    domainOpacity=0 # remove axis\n",
    ").properties(\n",
    "    title=alt.TitleParams(\n",
    "        'Gender distribution and relations in \"{}\"'.format(play.title),\n",
    "        anchor='middle',\n",
    "        fontSize=20\n",
    "    )\n",
    ")"
   ]
  },
  {
   "cell_type": "markdown",
   "metadata": {},
   "source": [
    "Source: German Drama Corpus provided by the Drama Corpus (DraCor) Project https://dracor.org/ger \n",
    "\n",
    "Fischer, Frank, et al. (2019). Programmable Corpora: Introducing DraCor, an Infrastructure for the Research on European Drama. In Proceedings of DH2019: \"Complexities\", Utrecht University, doi:10.5281/zenodo.4284002."
   ]
  }
 ],
 "metadata": {
  "colab": {
   "provenance": []
  },
  "kernelspec": {
   "display_name": "Python 3 (ipykernel)",
   "language": "python",
   "name": "python3"
  },
  "language_info": {
   "codemirror_mode": {
    "name": "ipython",
    "version": 3
   },
   "file_extension": ".py",
   "mimetype": "text/x-python",
   "name": "python",
   "nbconvert_exporter": "python",
   "pygments_lexer": "ipython3",
   "version": "3.11.2"
  }
 },
 "nbformat": 4,
 "nbformat_minor": 4
}
