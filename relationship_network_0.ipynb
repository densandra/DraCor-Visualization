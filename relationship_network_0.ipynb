{
  "cells": [
    {
      "cell_type": "code",
      "source": [
        "! pip install nx_altair"
      ],
      "metadata": {
        "id": "ABpzFxmM2jR4"
      },
      "execution_count": null,
      "outputs": []
    },
    {
      "cell_type": "code",
      "source": [
        "! pip install pydracor"
      ],
      "metadata": {
        "id": "n-1_zmyb5AUd"
      },
      "execution_count": null,
      "outputs": []
    },
    {
      "cell_type": "code",
      "execution_count": 21,
      "metadata": {
        "id": "Dtqiq487zzrm"
      },
      "outputs": [],
      "source": [
        "import pandas as pd\n",
        "import altair as alt\n",
        "import networkx as nx\n",
        "import nx_altair as nxa\n",
        "from pydracor import *\n",
        "\n",
        "dracor = DraCor()"
      ]
    },
    {
      "cell_type": "markdown",
      "metadata": {
        "id": "2FmnnFV4zzrk"
      },
      "source": [
        "# Step 0: Preparation\n",
        "Import libraries and instantiate DraCor api."
      ]
    },
    {
      "cell_type": "markdown",
      "metadata": {
        "id": "hP91xZrfzzrm"
      },
      "source": [
        "# Step 1: Available German plays\n",
        "Choose a play you are interested in from the list."
      ]
    },
    {
      "cell_type": "code",
      "execution_count": null,
      "metadata": {
        "id": "QNeRUxKKzzrn"
      },
      "outputs": [],
      "source": [
        "plays = dracor.play_id_to_play_title()\n",
        "available_german_plays = filtered_grades = dict(filter(lambda play: 'ger0' in play[0], plays.items()))\n",
        "available_german_plays"
      ]
    },
    {
      "cell_type": "markdown",
      "metadata": {
        "id": "lIquezMizzrn"
      },
      "source": [
        "# Step 2: Fetch data\n",
        "Request metadata and networks for a chosen play from the DraCor api."
      ]
    },
    {
      "cell_type": "code",
      "execution_count": 23,
      "metadata": {
        "id": "RZbboj20zzro"
      },
      "outputs": [],
      "source": [
        "# play = Play('ger000088') # Emilia Galotti\n",
        "# play = Play('ger000378') # Napoleon oder Die hundert Tage, 259 Characters\n",
        "play = Play('ger000311') # Maria Stuart\n",
        "# play = Play('ger000201') # Faust zwei, 189 Characters\n",
        "\n",
        "# networkX doesn't support mix of directed+undirected Graphs & nx_altair's arrows look broken\n",
        "# workaround: make graph undirected\n",
        "relations_graphml = play.relations_graphml()\n",
        "relations_graphml = relations_graphml.replace('directed=\"true\"', 'directed=\"false\"')\n",
        "G = nx.parse_graphml(relations_graphml)\n",
        "\n",
        "# load corpus metadata\n",
        "german_corpus = Corpus('ger')\n",
        "german_metadata = pd.DataFrame(german_corpus.metadata())\n",
        "\n",
        "# load play metadata\n",
        "play_id = play.id\n",
        "play_metadata = german_metadata[german_metadata[\"id\"] == play_id].reset_index()\n",
        "\n",
        "# aggregate number of spoken words by gender\n",
        "cooccurence_graphml = play.graphml()\n",
        "cooccurence_graph = nx.parse_graphml(cooccurence_graphml)\n",
        "female_words = 0\n",
        "male_words = 0\n",
        "unknown_words = 0\n",
        "for node_iterator in cooccurence_graph.nodes:\n",
        "    node = cooccurence_graph.nodes[node_iterator]\n",
        "    if node['Gender'] == 'FEMALE':\n",
        "       female_words += node['Number of spoken words']\n",
        "    elif node['Gender'] == 'MALE':\n",
        "       male_words += node['Number of spoken words']\n",
        "    elif node['Gender'] == 'UNKNOWN':\n",
        "       unknown_words += node['Number of spoken words']\n",
        "\n",
        "spoken_words_list = [male_words, female_words, unknown_words]"
      ]
    },
    {
      "cell_type": "markdown",
      "metadata": {
        "id": "l7ae1MThzzro"
      },
      "source": [
        "# Step 3: Visualize data\n",
        "Draw charts about gender distribution and relations for the chosen play."
      ]
    },
    {
      "cell_type": "code",
      "execution_count": 24,
      "metadata": {
        "id": "tHMv4w-xzzrp"
      },
      "outputs": [],
      "source": [
        "############################## Network Chart ##############################\n",
        "\n",
        "# define the graph layout\n",
        "layout = nx.shell_layout(G)\n",
        "\n",
        "# draw base graph with nx_altair\n",
        "base = nxa.draw_networkx(\n",
        "    G,\n",
        "    pos=layout,\n",
        "    node_tooltip=['label', 'Gender'],\n",
        "    node_color='lightgray',\n",
        "    edge_color='Relation',\n",
        "    width=2\n",
        ")"
      ]
    },
    {
      "cell_type": "code",
      "source": [
        "# get the edge layer\n",
        "edges = base.layer[0]\n",
        "# get the node layer\n",
        "nodes = base.layer[1]"
      ],
      "metadata": {
        "id": "MsH0QYfs-7j_"
      },
      "execution_count": 25,
      "outputs": []
    },
    {
      "cell_type": "code",
      "source": [
        "!pip install --upgrade altair"
      ],
      "metadata": {
        "id": "dgvQQEetGa9k",
        "outputId": "725b08cf-7b66-494e-eac4-9e7659484311",
        "colab": {
          "base_uri": "https://localhost:8080/"
        }
      },
      "execution_count": 32,
      "outputs": [
        {
          "output_type": "stream",
          "name": "stdout",
          "text": [
            "Requirement already satisfied: altair in /usr/local/lib/python3.10/dist-packages (5.2.0)\n",
            "Requirement already satisfied: jinja2 in /usr/local/lib/python3.10/dist-packages (from altair) (3.1.3)\n",
            "Requirement already satisfied: jsonschema>=3.0 in /usr/local/lib/python3.10/dist-packages (from altair) (4.19.2)\n",
            "Requirement already satisfied: numpy in /usr/local/lib/python3.10/dist-packages (from altair) (1.23.5)\n",
            "Requirement already satisfied: packaging in /usr/local/lib/python3.10/dist-packages (from altair) (23.2)\n",
            "Requirement already satisfied: pandas>=0.25 in /usr/local/lib/python3.10/dist-packages (from altair) (1.5.3)\n",
            "Requirement already satisfied: toolz in /usr/local/lib/python3.10/dist-packages (from altair) (0.12.0)\n",
            "Requirement already satisfied: typing-extensions>=4.0.1 in /usr/local/lib/python3.10/dist-packages (from altair) (4.5.0)\n",
            "Requirement already satisfied: attrs>=22.2.0 in /usr/local/lib/python3.10/dist-packages (from jsonschema>=3.0->altair) (23.2.0)\n",
            "Requirement already satisfied: jsonschema-specifications>=2023.03.6 in /usr/local/lib/python3.10/dist-packages (from jsonschema>=3.0->altair) (2023.12.1)\n",
            "Requirement already satisfied: referencing>=0.28.4 in /usr/local/lib/python3.10/dist-packages (from jsonschema>=3.0->altair) (0.32.1)\n",
            "Requirement already satisfied: rpds-py>=0.7.1 in /usr/local/lib/python3.10/dist-packages (from jsonschema>=3.0->altair) (0.17.1)\n",
            "Requirement already satisfied: python-dateutil>=2.8.1 in /usr/local/lib/python3.10/dist-packages (from pandas>=0.25->altair) (2.8.2)\n",
            "Requirement already satisfied: pytz>=2020.1 in /usr/local/lib/python3.10/dist-packages (from pandas>=0.25->altair) (2023.3.post1)\n",
            "Requirement already satisfied: MarkupSafe>=2.0 in /usr/local/lib/python3.10/dist-packages (from jinja2->altair) (2.1.4)\n",
            "Requirement already satisfied: six>=1.5 in /usr/local/lib/python3.10/dist-packages (from python-dateutil>=2.8.1->pandas>=0.25->altair) (1.16.0)\n"
          ]
        }
      ]
    },
    {
      "cell_type": "code",
      "source": [
        "# error due to different version: colab 4, original notebook=5 <- if not solved, install jupyternotebook on laptop\n",
        "# define relationship filter\n",
        "relation = pd.DataFrame(\n",
        "    {'Relation': ['parent_of', 'lover_of', 'related_with', 'associated_with', 'siblings', 'spouses', 'friends']}\n",
        ")\n",
        "\n",
        "relation_selection = alt.selection_point(fields=['Relation'], toggle=\"true\")\n",
        "relation_color = alt.condition(\n",
        "    relation_selection,\n",
        "    alt.Color('Relation:N', legend=None),\n",
        "    alt.value('lightgray')\n",
        ")\n",
        "relation_filter = alt.Chart(\n",
        "    relation,\n",
        "    title=alt.TitleParams('Filter relation', anchor='start')\n",
        ").mark_rect(cursor='pointer').encode(\n",
        "    y=alt.Y('Relation', title=''),\n",
        "    color=relation_color\n",
        ").add_params(relation_selection)"
      ],
      "metadata": {
        "id": "s-P6XZba-40P",
        "outputId": "95396160-a52d-4725-b6cc-7e4c2ef0ac77",
        "colab": {
          "base_uri": "https://localhost:8080/",
          "height": 252
        }
      },
      "execution_count": 30,
      "outputs": [
        {
          "output_type": "error",
          "ename": "AttributeError",
          "evalue": "module 'altair' has no attribute 'selection_point'",
          "traceback": [
            "\u001b[0;31m---------------------------------------------------------------------------\u001b[0m",
            "\u001b[0;31mAttributeError\u001b[0m                            Traceback (most recent call last)",
            "\u001b[0;32m<ipython-input-30-81dd881b8aa2>\u001b[0m in \u001b[0;36m<cell line: 5>\u001b[0;34m()\u001b[0m\n\u001b[1;32m      3\u001b[0m     \u001b[0;34m{\u001b[0m\u001b[0;34m'Relation'\u001b[0m\u001b[0;34m:\u001b[0m \u001b[0;34m[\u001b[0m\u001b[0;34m'parent_of'\u001b[0m\u001b[0;34m,\u001b[0m \u001b[0;34m'lover_of'\u001b[0m\u001b[0;34m,\u001b[0m \u001b[0;34m'related_with'\u001b[0m\u001b[0;34m,\u001b[0m \u001b[0;34m'associated_with'\u001b[0m\u001b[0;34m,\u001b[0m \u001b[0;34m'siblings'\u001b[0m\u001b[0;34m,\u001b[0m \u001b[0;34m'spouses'\u001b[0m\u001b[0;34m,\u001b[0m \u001b[0;34m'friends'\u001b[0m\u001b[0;34m]\u001b[0m\u001b[0;34m}\u001b[0m\u001b[0;34m\u001b[0m\u001b[0;34m\u001b[0m\u001b[0m\n\u001b[1;32m      4\u001b[0m )\n\u001b[0;32m----> 5\u001b[0;31m \u001b[0mrelation_selection\u001b[0m \u001b[0;34m=\u001b[0m \u001b[0malt\u001b[0m\u001b[0;34m.\u001b[0m\u001b[0mselection_point\u001b[0m\u001b[0;34m(\u001b[0m\u001b[0mfields\u001b[0m\u001b[0;34m=\u001b[0m\u001b[0;34m[\u001b[0m\u001b[0;34m'Relation'\u001b[0m\u001b[0;34m]\u001b[0m\u001b[0;34m,\u001b[0m \u001b[0mtoggle\u001b[0m\u001b[0;34m=\u001b[0m\u001b[0;34m\"true\"\u001b[0m\u001b[0;34m)\u001b[0m\u001b[0;34m\u001b[0m\u001b[0;34m\u001b[0m\u001b[0m\n\u001b[0m\u001b[1;32m      6\u001b[0m relation_color = alt.condition(\n\u001b[1;32m      7\u001b[0m     \u001b[0mrelation_selection\u001b[0m\u001b[0;34m,\u001b[0m\u001b[0;34m\u001b[0m\u001b[0;34m\u001b[0m\u001b[0m\n",
            "\u001b[0;31mAttributeError\u001b[0m: module 'altair' has no attribute 'selection_point'"
          ]
        }
      ]
    },
    {
      "cell_type": "code",
      "source": [
        "# Mapping of original relation names to new names\n",
        "relation_name_mapping = {\n",
        "    'parent_of': 'Parent',\n",
        "    'lover_of': 'Lover',\n",
        "    'related_with': 'Related',\n",
        "    'associated_with': 'Associated',\n",
        "    'siblings': 'Siblings',\n",
        "    'spouses': 'Spouse',\n",
        "    'friends': 'Friend'\n",
        "}"
      ],
      "metadata": {
        "id": "we2XCSyBI2Am"
      },
      "execution_count": null,
      "outputs": []
    },
    {
      "cell_type": "code",
      "source": [
        "# Create a new column with the modified names\n",
        "relation['Relation_Display'] = relation['Relation'].map(relation_name_mapping)\n",
        "\n",
        "# Chart with modified names\n",
        "relation_filter = alt.Chart(\n",
        "    relation,\n",
        "    title=alt.TitleParams('Filter relation', anchor='start')\n",
        ").mark_rect(cursor='pointer').encode(\n",
        "    y=alt.Y('Relation_Display', title=''),  # Use the new column for display\n",
        "    color=relation_color\n",
        ").add_params(relation_selection)\n"
      ],
      "metadata": {
        "id": "eRuOd00aI4Mb"
      },
      "execution_count": null,
      "outputs": []
    },
    {
      "cell_type": "code",
      "source": [
        "# encode relation as edge color and add relationship filter\n",
        "edges = edges.encode(color=relation_color).transform_filter(relation_selection)"
      ],
      "metadata": {
        "id": "Vvsvp5Uf-2FB",
        "outputId": "3dd5b259-2c51-47c4-96b5-0569937e03a8",
        "colab": {
          "base_uri": "https://localhost:8080/",
          "height": 198
        }
      },
      "execution_count": 27,
      "outputs": [
        {
          "output_type": "error",
          "ename": "NameError",
          "evalue": "name 'relation_color' is not defined",
          "traceback": [
            "\u001b[0;31m---------------------------------------------------------------------------\u001b[0m",
            "\u001b[0;31mNameError\u001b[0m                                 Traceback (most recent call last)",
            "\u001b[0;32m<ipython-input-27-bfb73415df61>\u001b[0m in \u001b[0;36m<cell line: 2>\u001b[0;34m()\u001b[0m\n\u001b[1;32m      1\u001b[0m \u001b[0;31m# encode relation as edge color and add relationship filter\u001b[0m\u001b[0;34m\u001b[0m\u001b[0;34m\u001b[0m\u001b[0m\n\u001b[0;32m----> 2\u001b[0;31m \u001b[0medges\u001b[0m \u001b[0;34m=\u001b[0m \u001b[0medges\u001b[0m\u001b[0;34m.\u001b[0m\u001b[0mencode\u001b[0m\u001b[0;34m(\u001b[0m\u001b[0mcolor\u001b[0m\u001b[0;34m=\u001b[0m\u001b[0mrelation_color\u001b[0m\u001b[0;34m)\u001b[0m\u001b[0;34m.\u001b[0m\u001b[0mtransform_filter\u001b[0m\u001b[0;34m(\u001b[0m\u001b[0mrelation_selection\u001b[0m\u001b[0;34m)\u001b[0m\u001b[0;34m\u001b[0m\u001b[0;34m\u001b[0m\u001b[0m\n\u001b[0m",
            "\u001b[0;31mNameError\u001b[0m: name 'relation_color' is not defined"
          ]
        }
      ]
    },
    {
      "cell_type": "code",
      "source": [
        "# define gender filter\n",
        "gender = pd.DataFrame({'Gender': ['MALE','FEMALE', 'UNKNOWN']})\n",
        "gender_selection = alt.selection_point(fields=['Gender'], toggle=\"true\")\n",
        "gender_color = alt.condition(\n",
        "    gender_selection,\n",
        "    alt.Color('Gender:N', legend=None),\n",
        "    alt.value('lightgray')\n",
        ")\n",
        "gender_shape = alt.Shape('Gender:N', legend=None)\n",
        "gender_filter = alt.Chart(\n",
        "    gender,\n",
        "    title=alt.TitleParams('Filter gender', anchor='start')\n",
        ").mark_point(\n",
        "    size=300,\n",
        "    cursor='pointer',\n",
        "    filled=True,\n",
        "    opacity=1\n",
        ").encode(\n",
        "    y=alt.Y('Gender', title=''),\n",
        "    color=gender_color,\n",
        "    shape=gender_shape\n",
        ").add_params(gender_selection)"
      ],
      "metadata": {
        "id": "TrEMrUcd-zDT",
        "outputId": "77ad1cb4-c80b-4063-bf7f-31096af896f5",
        "colab": {
          "base_uri": "https://localhost:8080/",
          "height": 252
        }
      },
      "execution_count": 28,
      "outputs": [
        {
          "output_type": "error",
          "ename": "AttributeError",
          "evalue": "module 'altair' has no attribute 'selection_point'",
          "traceback": [
            "\u001b[0;31m---------------------------------------------------------------------------\u001b[0m",
            "\u001b[0;31mAttributeError\u001b[0m                            Traceback (most recent call last)",
            "\u001b[0;32m<ipython-input-28-1d8f18af3dc7>\u001b[0m in \u001b[0;36m<cell line: 3>\u001b[0;34m()\u001b[0m\n\u001b[1;32m      1\u001b[0m \u001b[0;31m# define gender filter\u001b[0m\u001b[0;34m\u001b[0m\u001b[0;34m\u001b[0m\u001b[0m\n\u001b[1;32m      2\u001b[0m \u001b[0mgender\u001b[0m \u001b[0;34m=\u001b[0m \u001b[0mpd\u001b[0m\u001b[0;34m.\u001b[0m\u001b[0mDataFrame\u001b[0m\u001b[0;34m(\u001b[0m\u001b[0;34m{\u001b[0m\u001b[0;34m'Gender'\u001b[0m\u001b[0;34m:\u001b[0m \u001b[0;34m[\u001b[0m\u001b[0;34m'MALE'\u001b[0m\u001b[0;34m,\u001b[0m\u001b[0;34m'FEMALE'\u001b[0m\u001b[0;34m,\u001b[0m \u001b[0;34m'UNKNOWN'\u001b[0m\u001b[0;34m]\u001b[0m\u001b[0;34m}\u001b[0m\u001b[0;34m)\u001b[0m\u001b[0;34m\u001b[0m\u001b[0;34m\u001b[0m\u001b[0m\n\u001b[0;32m----> 3\u001b[0;31m \u001b[0mgender_selection\u001b[0m \u001b[0;34m=\u001b[0m \u001b[0malt\u001b[0m\u001b[0;34m.\u001b[0m\u001b[0mselection_point\u001b[0m\u001b[0;34m(\u001b[0m\u001b[0mfields\u001b[0m\u001b[0;34m=\u001b[0m\u001b[0;34m[\u001b[0m\u001b[0;34m'Gender'\u001b[0m\u001b[0;34m]\u001b[0m\u001b[0;34m,\u001b[0m \u001b[0mtoggle\u001b[0m\u001b[0;34m=\u001b[0m\u001b[0;34m\"true\"\u001b[0m\u001b[0;34m)\u001b[0m\u001b[0;34m\u001b[0m\u001b[0;34m\u001b[0m\u001b[0m\n\u001b[0m\u001b[1;32m      4\u001b[0m gender_color = alt.condition(\n\u001b[1;32m      5\u001b[0m     \u001b[0mgender_selection\u001b[0m\u001b[0;34m,\u001b[0m\u001b[0;34m\u001b[0m\u001b[0;34m\u001b[0m\u001b[0m\n",
            "\u001b[0;31mAttributeError\u001b[0m: module 'altair' has no attribute 'selection_point'"
          ]
        }
      ]
    },
    {
      "cell_type": "code",
      "source": [
        "# encode gender as node shape+color and add gender filter\n",
        "nodes = nodes.encode(\n",
        "    color=gender_color,\n",
        "    fill=gender_color,\n",
        "    shape=gender_shape\n",
        ").add_params(gender_selection)\n"
      ],
      "metadata": {
        "id": "kQ6e4lCK-vlM"
      },
      "execution_count": null,
      "outputs": []
    },
    {
      "cell_type": "code",
      "source": [
        "# layer network chart\n",
        "network_chart = (edges + nodes).properties(\n",
        "    width=400,\n",
        "    height=400\n",
        ")\n",
        "network_chart_with_filters = ((gender_filter & relation_filter) | network_chart)"
      ],
      "metadata": {
        "id": "WtEE6aEP-sn0"
      },
      "execution_count": null,
      "outputs": []
    },
    {
      "cell_type": "code",
      "source": [
        "############################## Pie Charts ##############################\n",
        "\n",
        "# count characters by gender\n",
        "speakers = play_metadata[['num_of_speakers_male', 'num_of_speakers_female', 'num_of_speakers_unknown']]\n",
        "gender['Characters'] = speakers.loc[0,:].values.tolist()\n",
        "gender_distribution_pie_chart= alt.Chart(gender, title='Gender distribution').mark_arc().encode(\n",
        "    theta='Characters',\n",
        "    color=alt.Color('Gender:N', legend=None),\n",
        "    tooltip=['Gender', 'Characters']\n",
        ").properties(\n",
        "    width=200,\n",
        "    height=200\n",
        ")"
      ],
      "metadata": {
        "id": "ZYLym9S_-qHH"
      },
      "execution_count": null,
      "outputs": []
    },
    {
      "cell_type": "code",
      "source": [
        "# aggregated spoken words by gender\n",
        "gender['Spoken words'] = spoken_words_list\n",
        "spoken_words_pie_chart = alt.Chart(gender, title='Number of spoken words by gender').mark_arc().encode(\n",
        "    theta='Spoken words',\n",
        "    color=alt.Color('Gender:N', legend=None),\n",
        "    tooltip=['Gender', 'Spoken words']\n",
        ").properties(\n",
        "    width=200,\n",
        "    height=200\n",
        ")\n",
        "\n",
        "stacked_pie_charts = (gender_distribution_pie_chart & spoken_words_pie_chart)\n"
      ],
      "metadata": {
        "id": "blCgiDEJ-jx7"
      },
      "execution_count": null,
      "outputs": []
    },
    {
      "cell_type": "code",
      "source": [
        "############################## Final Chart ##############################\n",
        "\n",
        "final_chart = (network_chart_with_filters | stacked_pie_charts)\n",
        "\n",
        "final_chart.configure_view(\n",
        "    strokeWidth=0 # remove border\n",
        ").configure_axis(\n",
        "    domainOpacity=0 # remove axis\n",
        ").properties(\n",
        "    title=alt.TitleParams(\n",
        "        'Gender distribution and relations in \"{}\"'.format(play.title),\n",
        "        anchor='middle',\n",
        "        fontSize=20\n",
        "    )\n",
        ")"
      ],
      "metadata": {
        "id": "ubTDkFA-85-n"
      },
      "execution_count": null,
      "outputs": []
    }
  ],
  "metadata": {
    "kernelspec": {
      "display_name": "Python 3",
      "language": "python",
      "name": "python3"
    },
    "language_info": {
      "codemirror_mode": {
        "name": "ipython",
        "version": 3
      },
      "file_extension": ".py",
      "mimetype": "text/x-python",
      "name": "python",
      "nbconvert_exporter": "python",
      "pygments_lexer": "ipython3",
      "version": "3.11.3"
    },
    "colab": {
      "provenance": []
    }
  },
  "nbformat": 4,
  "nbformat_minor": 0
}
